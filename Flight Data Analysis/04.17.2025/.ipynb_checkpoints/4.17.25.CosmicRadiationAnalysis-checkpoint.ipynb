{
 "cells": [
  {
   "cell_type": "code",
   "execution_count": 1,
   "id": "97d5ca67-3f66-491c-99d0-5caaaa100ce6",
   "metadata": {},
   "outputs": [],
   "source": [
    "# importing modules\n",
    "import pandas\n",
    "import numpy as np\n",
    "import matplotlib.pyplot as plt"
   ]
  },
  {
   "cell_type": "code",
   "execution_count": 2,
   "id": "a8ab2010-775a-4bb9-94d6-6fbe3f440a6f",
   "metadata": {},
   "outputs": [],
   "source": [
    "# reading csv file\n",
    "globuarClusters = pandas.read_csv(\"LAUNCH43.csv\")"
   ]
  },
  {
   "cell_type": "code",
   "execution_count": 3,
   "id": "4aa4d251-c3bc-425d-b78e-e3bed3989286",
   "metadata": {},
   "outputs": [
    {
     "ename": "KeyError",
     "evalue": "' MPL Altitude (m)'",
     "output_type": "error",
     "traceback": [
      "\u001b[1;31m---------------------------------------------------------------------------\u001b[0m",
      "\u001b[1;31mKeyError\u001b[0m                                  Traceback (most recent call last)",
      "\u001b[1;32m~\\anaconda3\\lib\\site-packages\\pandas\\core\\indexes\\base.py\u001b[0m in \u001b[0;36mget_loc\u001b[1;34m(self, key, method, tolerance)\u001b[0m\n\u001b[0;32m   3628\u001b[0m             \u001b[1;32mtry\u001b[0m\u001b[1;33m:\u001b[0m\u001b[1;33m\u001b[0m\u001b[1;33m\u001b[0m\u001b[0m\n\u001b[1;32m-> 3629\u001b[1;33m                 \u001b[1;32mreturn\u001b[0m \u001b[0mself\u001b[0m\u001b[1;33m.\u001b[0m\u001b[0m_engine\u001b[0m\u001b[1;33m.\u001b[0m\u001b[0mget_loc\u001b[0m\u001b[1;33m(\u001b[0m\u001b[0mcasted_key\u001b[0m\u001b[1;33m)\u001b[0m\u001b[1;33m\u001b[0m\u001b[1;33m\u001b[0m\u001b[0m\n\u001b[0m\u001b[0;32m   3630\u001b[0m             \u001b[1;32mexcept\u001b[0m \u001b[0mKeyError\u001b[0m \u001b[1;32mas\u001b[0m \u001b[0merr\u001b[0m\u001b[1;33m:\u001b[0m\u001b[1;33m\u001b[0m\u001b[1;33m\u001b[0m\u001b[0m\n",
      "\u001b[1;32m~\\anaconda3\\lib\\site-packages\\pandas\\_libs\\index.pyx\u001b[0m in \u001b[0;36mpandas._libs.index.IndexEngine.get_loc\u001b[1;34m()\u001b[0m\n",
      "\u001b[1;32m~\\anaconda3\\lib\\site-packages\\pandas\\_libs\\index.pyx\u001b[0m in \u001b[0;36mpandas._libs.index.IndexEngine.get_loc\u001b[1;34m()\u001b[0m\n",
      "\u001b[1;32mpandas\\_libs\\hashtable_class_helper.pxi\u001b[0m in \u001b[0;36mpandas._libs.hashtable.PyObjectHashTable.get_item\u001b[1;34m()\u001b[0m\n",
      "\u001b[1;32mpandas\\_libs\\hashtable_class_helper.pxi\u001b[0m in \u001b[0;36mpandas._libs.hashtable.PyObjectHashTable.get_item\u001b[1;34m()\u001b[0m\n",
      "\u001b[1;31mKeyError\u001b[0m: ' MPL Altitude (m)'",
      "\nThe above exception was the direct cause of the following exception:\n",
      "\u001b[1;31mKeyError\u001b[0m                                  Traceback (most recent call last)",
      "\u001b[1;32m~\\AppData\\Local\\Temp\\ipykernel_15368\\1718065992.py\u001b[0m in \u001b[0;36m<module>\u001b[1;34m\u001b[0m\n\u001b[0;32m      2\u001b[0m \u001b[0mtimedata\u001b[0m \u001b[1;33m=\u001b[0m \u001b[0mnp\u001b[0m\u001b[1;33m.\u001b[0m\u001b[0marray\u001b[0m\u001b[1;33m(\u001b[0m\u001b[0mglobuarClusters\u001b[0m\u001b[1;33m[\u001b[0m\u001b[1;34m'Time'\u001b[0m\u001b[1;33m]\u001b[0m\u001b[1;33m.\u001b[0m\u001b[0mtolist\u001b[0m\u001b[1;33m(\u001b[0m\u001b[1;33m)\u001b[0m\u001b[1;33m)\u001b[0m\u001b[1;33m\u001b[0m\u001b[1;33m\u001b[0m\u001b[0m\n\u001b[0;32m      3\u001b[0m \u001b[0mcounts\u001b[0m \u001b[1;33m=\u001b[0m \u001b[0mnp\u001b[0m\u001b[1;33m.\u001b[0m\u001b[0marray\u001b[0m\u001b[1;33m(\u001b[0m\u001b[0mglobuarClusters\u001b[0m\u001b[1;33m[\u001b[0m\u001b[1;34m' Counts'\u001b[0m\u001b[1;33m]\u001b[0m\u001b[1;33m.\u001b[0m\u001b[0mtolist\u001b[0m\u001b[1;33m(\u001b[0m\u001b[1;33m)\u001b[0m\u001b[1;33m)\u001b[0m\u001b[1;33m\u001b[0m\u001b[1;33m\u001b[0m\u001b[0m\n\u001b[1;32m----> 4\u001b[1;33m \u001b[0maltitude\u001b[0m \u001b[1;33m=\u001b[0m \u001b[0mnp\u001b[0m\u001b[1;33m.\u001b[0m\u001b[0marray\u001b[0m\u001b[1;33m(\u001b[0m\u001b[0mglobuarClusters\u001b[0m\u001b[1;33m[\u001b[0m\u001b[1;34m' MPL Altitude (m)'\u001b[0m\u001b[1;33m]\u001b[0m\u001b[1;33m.\u001b[0m\u001b[0mtolist\u001b[0m\u001b[1;33m(\u001b[0m\u001b[1;33m)\u001b[0m\u001b[1;33m)\u001b[0m \u001b[1;31m# meters\u001b[0m\u001b[1;33m\u001b[0m\u001b[1;33m\u001b[0m\u001b[0m\n\u001b[0m\u001b[0;32m      5\u001b[0m \u001b[0mpressuredata\u001b[0m \u001b[1;33m=\u001b[0m \u001b[0mnp\u001b[0m\u001b[1;33m.\u001b[0m\u001b[0marray\u001b[0m\u001b[1;33m(\u001b[0m\u001b[0mglobuarClusters\u001b[0m\u001b[1;33m[\u001b[0m\u001b[1;34m' Pressure (hPa)'\u001b[0m\u001b[1;33m]\u001b[0m\u001b[1;33m.\u001b[0m\u001b[0mtolist\u001b[0m\u001b[1;33m(\u001b[0m\u001b[1;33m)\u001b[0m\u001b[1;33m)\u001b[0m \u001b[1;31m# hpa\u001b[0m\u001b[1;33m\u001b[0m\u001b[1;33m\u001b[0m\u001b[0m\n\u001b[0;32m      6\u001b[0m \u001b[0mrtcTemp\u001b[0m \u001b[1;33m=\u001b[0m \u001b[0mnp\u001b[0m\u001b[1;33m.\u001b[0m\u001b[0marray\u001b[0m\u001b[1;33m(\u001b[0m\u001b[0mglobuarClusters\u001b[0m\u001b[1;33m[\u001b[0m\u001b[1;34m' RTC Temperature (C)'\u001b[0m\u001b[1;33m]\u001b[0m\u001b[1;33m.\u001b[0m\u001b[0mtolist\u001b[0m\u001b[1;33m(\u001b[0m\u001b[1;33m)\u001b[0m\u001b[1;33m)\u001b[0m \u001b[1;31m# C\u001b[0m\u001b[1;33m\u001b[0m\u001b[1;33m\u001b[0m\u001b[0m\n",
      "\u001b[1;32m~\\anaconda3\\lib\\site-packages\\pandas\\core\\frame.py\u001b[0m in \u001b[0;36m__getitem__\u001b[1;34m(self, key)\u001b[0m\n\u001b[0;32m   3503\u001b[0m             \u001b[1;32mif\u001b[0m \u001b[0mself\u001b[0m\u001b[1;33m.\u001b[0m\u001b[0mcolumns\u001b[0m\u001b[1;33m.\u001b[0m\u001b[0mnlevels\u001b[0m \u001b[1;33m>\u001b[0m \u001b[1;36m1\u001b[0m\u001b[1;33m:\u001b[0m\u001b[1;33m\u001b[0m\u001b[1;33m\u001b[0m\u001b[0m\n\u001b[0;32m   3504\u001b[0m                 \u001b[1;32mreturn\u001b[0m \u001b[0mself\u001b[0m\u001b[1;33m.\u001b[0m\u001b[0m_getitem_multilevel\u001b[0m\u001b[1;33m(\u001b[0m\u001b[0mkey\u001b[0m\u001b[1;33m)\u001b[0m\u001b[1;33m\u001b[0m\u001b[1;33m\u001b[0m\u001b[0m\n\u001b[1;32m-> 3505\u001b[1;33m             \u001b[0mindexer\u001b[0m \u001b[1;33m=\u001b[0m \u001b[0mself\u001b[0m\u001b[1;33m.\u001b[0m\u001b[0mcolumns\u001b[0m\u001b[1;33m.\u001b[0m\u001b[0mget_loc\u001b[0m\u001b[1;33m(\u001b[0m\u001b[0mkey\u001b[0m\u001b[1;33m)\u001b[0m\u001b[1;33m\u001b[0m\u001b[1;33m\u001b[0m\u001b[0m\n\u001b[0m\u001b[0;32m   3506\u001b[0m             \u001b[1;32mif\u001b[0m \u001b[0mis_integer\u001b[0m\u001b[1;33m(\u001b[0m\u001b[0mindexer\u001b[0m\u001b[1;33m)\u001b[0m\u001b[1;33m:\u001b[0m\u001b[1;33m\u001b[0m\u001b[1;33m\u001b[0m\u001b[0m\n\u001b[0;32m   3507\u001b[0m                 \u001b[0mindexer\u001b[0m \u001b[1;33m=\u001b[0m \u001b[1;33m[\u001b[0m\u001b[0mindexer\u001b[0m\u001b[1;33m]\u001b[0m\u001b[1;33m\u001b[0m\u001b[1;33m\u001b[0m\u001b[0m\n",
      "\u001b[1;32m~\\anaconda3\\lib\\site-packages\\pandas\\core\\indexes\\base.py\u001b[0m in \u001b[0;36mget_loc\u001b[1;34m(self, key, method, tolerance)\u001b[0m\n\u001b[0;32m   3629\u001b[0m                 \u001b[1;32mreturn\u001b[0m \u001b[0mself\u001b[0m\u001b[1;33m.\u001b[0m\u001b[0m_engine\u001b[0m\u001b[1;33m.\u001b[0m\u001b[0mget_loc\u001b[0m\u001b[1;33m(\u001b[0m\u001b[0mcasted_key\u001b[0m\u001b[1;33m)\u001b[0m\u001b[1;33m\u001b[0m\u001b[1;33m\u001b[0m\u001b[0m\n\u001b[0;32m   3630\u001b[0m             \u001b[1;32mexcept\u001b[0m \u001b[0mKeyError\u001b[0m \u001b[1;32mas\u001b[0m \u001b[0merr\u001b[0m\u001b[1;33m:\u001b[0m\u001b[1;33m\u001b[0m\u001b[1;33m\u001b[0m\u001b[0m\n\u001b[1;32m-> 3631\u001b[1;33m                 \u001b[1;32mraise\u001b[0m \u001b[0mKeyError\u001b[0m\u001b[1;33m(\u001b[0m\u001b[0mkey\u001b[0m\u001b[1;33m)\u001b[0m \u001b[1;32mfrom\u001b[0m \u001b[0merr\u001b[0m\u001b[1;33m\u001b[0m\u001b[1;33m\u001b[0m\u001b[0m\n\u001b[0m\u001b[0;32m   3632\u001b[0m             \u001b[1;32mexcept\u001b[0m \u001b[0mTypeError\u001b[0m\u001b[1;33m:\u001b[0m\u001b[1;33m\u001b[0m\u001b[1;33m\u001b[0m\u001b[0m\n\u001b[0;32m   3633\u001b[0m                 \u001b[1;31m# If we have a listlike key, _check_indexing_error will raise\u001b[0m\u001b[1;33m\u001b[0m\u001b[1;33m\u001b[0m\u001b[0m\n",
      "\u001b[1;31mKeyError\u001b[0m: ' MPL Altitude (m)'"
     ]
    }
   ],
   "source": [
    "# array of distances from globular clusters to sun\n",
    "timedata = np.array(globuarClusters['Time'].tolist())\n",
    "counts = np.array(globuarClusters[' Counts'].tolist())\n",
    "altitude = np.array(globuarClusters[' MPL Altitude (m)'].tolist()) # meters\n",
    "pressuredata = np.array(globuarClusters[' Pressure (hPa)'].tolist()) # hpa\n",
    "rtcTemp = np.array(globuarClusters[' RTC Temperature (C)'].tolist()) # C\n",
    "mplTemp = np.array(globuarClusters[' MPL Temperature (C)'].tolist()) # C"
   ]
  },
  {
   "cell_type": "code",
   "execution_count": null,
   "id": "baf8fc6e-e504-400b-bdca-102841850e0c",
   "metadata": {},
   "outputs": [],
   "source": [
    "# converting time array to something we can graph nicely\n",
    "def get_hours(time_str):\n",
    "    hh, mm, ss = time_str.split(':')\n",
    "    return int(hh) + np.divide(int(mm),60) + np.divide(int(ss),3600)\n",
    "\n",
    "time = np.array(globuarClusters['Time'].tolist())\n",
    "for i, x in np.ndenumerate(timedata):\n",
    "    time[i] = get_hours(timedata[i])\n",
    "    \n",
    "time = time.astype(float)"
   ]
  },
  {
   "cell_type": "code",
   "execution_count": null,
   "id": "16a82ad6-d830-4000-8692-aff74cc3e45f",
   "metadata": {},
   "outputs": [],
   "source": [
    "# converting pressure from hpa to atm\n",
    "atmtohpa = \t1013.25\n",
    "pressure = np.divide(pressuredata,atmtohpa)"
   ]
  },
  {
   "cell_type": "code",
   "execution_count": null,
   "id": "1965a5ba-699c-4817-927b-c5312b02faf1",
   "metadata": {},
   "outputs": [],
   "source": [
    "# correcting RTC temperatures\n",
    "correction = np.where(rtcTemp > 200, 256, 0)\n",
    "rtcTemp = np.subtract(rtcTemp,correction)"
   ]
  },
  {
   "cell_type": "code",
   "execution_count": null,
   "id": "c7487dee-a87e-4d10-9af7-f0ece6b02e80",
   "metadata": {},
   "outputs": [],
   "source": [
    "# average difference between rtc and mpl temp sensors\n",
    "tempError = np.round(np.subtract(np.average(rtcTemp),np.average(mplTemp)),5)"
   ]
  },
  {
   "cell_type": "code",
   "execution_count": null,
   "id": "44273f6a-548c-4d62-b3df-4fb43ccdd73f",
   "metadata": {},
   "outputs": [],
   "source": [
    "# finding minimum pressure\n",
    "minPressure = np.round(np.min(pressure),5)"
   ]
  },
  {
   "cell_type": "code",
   "execution_count": null,
   "id": "55400e7e-9ba5-4e0e-8d4c-5253f0e6e6e4",
   "metadata": {},
   "outputs": [],
   "source": [
    "#Removing data points after landing\n",
    "time = time[0:249]\n",
    "counts = counts[0:249]\n",
    "altitude = altitude[0:249]\n",
    "pressure = pressure[0:249]\n",
    "rtcTemp = rtcTemp[0:249]\n",
    "mplTemp = mplTemp[0:249]"
   ]
  },
  {
   "cell_type": "code",
   "execution_count": null,
   "id": "45b58a44-cfb8-4f4d-917e-6b657de6b449",
   "metadata": {},
   "outputs": [],
   "source": [
    "#Splitting counts into pre and post burst counts\n",
    "counts1 = np.column_stack((altitude[0:144],counts[0:144]))\n",
    "counts2 = np.column_stack((altitude[145:249],counts[145:249]))"
   ]
  },
  {
   "cell_type": "code",
   "execution_count": null,
   "id": "8bd3fc5e-64e6-45c8-8645-579589804931",
   "metadata": {},
   "outputs": [],
   "source": [
    "fig1 = plt.figure()\n",
    "ax1 = fig1.add_subplot(1, 1, 1)\n",
    "ax1.plot(altitude, counts, color='tab:blue')\n",
    "plt.suptitle(\"Altitude vs Counts of Radiation\")\n",
    "plt.ylabel(\"Counts\")\n",
    "plt.xlabel(\"Altitude (m)\")\n",
    "plt.show()"
   ]
  },
  {
   "cell_type": "code",
   "execution_count": null,
   "id": "f6489eec-01cb-4dd4-bc2e-7f7006f0b176",
   "metadata": {},
   "outputs": [],
   "source": [
    "fig2 = plt.figure()\n",
    "ax2 = fig2.add_subplot(1, 1, 1)\n",
    "ax2.plot(time, counts, color='tab:blue')\n",
    "plt.suptitle(\"Time vs Counts of Radiation\")\n",
    "plt.ylabel(\"Counts\")\n",
    "plt.xlabel(\"Time (hr)\")\n",
    "plt.show()"
   ]
  },
  {
   "cell_type": "code",
   "execution_count": null,
   "id": "a7c31979-9eb2-4fe0-b880-3e84ef785fc6",
   "metadata": {},
   "outputs": [],
   "source": [
    "fig1 = plt.figure()\n",
    "ax1 = fig1.add_subplot(1, 1, 1)\n",
    "ax1.plot(altitude[0:144], counts[0:144], color='tab:blue')\n",
    "ax1.plot(altitude[145:249], counts[145:249], color='tab:red')\n",
    "plt.suptitle(\"Altitude vs Counts of Radiation\")\n",
    "plt.ylabel(\"Counts\")\n",
    "plt.xlabel(\"Altitude (m)\")\n",
    "plt.legend([\"Pre-Burst\", \"Post-Burst\"], loc =\"upper left\")\n",
    "plt.show()"
   ]
  },
  {
   "cell_type": "code",
   "execution_count": null,
   "id": "89997b4d-5990-4732-8a43-33165e8b4a16",
   "metadata": {},
   "outputs": [],
   "source": [
    "fig3 = plt.figure()\n",
    "ax3 = fig3.add_subplot(1, 1, 1)\n",
    "ax3.plot(altitude, mplTemp, color='tab:blue')\n",
    "ax3.plot(altitude, rtcTemp, color='tab:orange')\n",
    "plt.suptitle(\"Altitude vs Temperature\")\n",
    "plt.ylabel(\"Temp (C)\")\n",
    "plt.xlabel(f'Altitude (m) \\n\\n Average difference between the two sensors was {tempError}° C')\n",
    "plt.legend([\"MPL3115a2\", \"DS3231\"], loc =\"upper right\")\n",
    "plt.show()"
   ]
  },
  {
   "cell_type": "code",
   "execution_count": null,
   "id": "a5a62a8d-6100-4491-b54d-12d8014027d2",
   "metadata": {},
   "outputs": [],
   "source": [
    "fig4 = plt.figure()\n",
    "ax4 = fig4.add_subplot(1, 1, 1)\n",
    "ax4.plot(time, mplTemp, color='tab:blue')\n",
    "ax4.plot(time, rtcTemp, color='tab:orange')\n",
    "plt.suptitle(\"Time vs Temperature\")\n",
    "plt.ylabel(\"Temp (C)\")\n",
    "plt.xlabel(f'Time (hr) \\n\\n Average difference between the two sensors was {tempError}° C')\n",
    "plt.legend([\"MPL3115a2\", \"DS3231\"], loc =\"lower left\")\n",
    "plt.show()"
   ]
  },
  {
   "cell_type": "code",
   "execution_count": null,
   "id": "e49a63f2-af97-4306-baa3-9a7c4f4fdd93",
   "metadata": {},
   "outputs": [],
   "source": [
    "fig5 = plt.figure()\n",
    "ax5 = fig5.add_subplot(1, 1, 1)\n",
    "ax5.plot(time, altitude, color='tab:blue')\n",
    "plt.suptitle(\"Time vs Altitude\")\n",
    "plt.ylabel(\"Altitude (m)\")\n",
    "plt.xlabel(\"Time (hr)\")\n",
    "plt.show()"
   ]
  },
  {
   "cell_type": "code",
   "execution_count": null,
   "id": "7f7075a6-0b4d-4abd-879f-08f8efc15136",
   "metadata": {},
   "outputs": [],
   "source": [
    "fig100 = plt.figure()\n",
    "ax6 = fig100.add_subplot(1, 1, 1)\n",
    "ax6.plot(pressure, counts, color='tab:blue')\n",
    "plt.suptitle(\"Pressure vs Radiation\")\n",
    "plt.xlabel(\"Pressure (atm)\")\n",
    "plt.ylabel(\"Counts\")\n",
    "plt.show()"
   ]
  },
  {
   "cell_type": "code",
   "execution_count": null,
   "id": "96f18d3e-a935-4738-b5e8-73faa246b8e1",
   "metadata": {},
   "outputs": [],
   "source": []
  },
  {
   "cell_type": "code",
   "execution_count": null,
   "id": "9b567d83-73fd-471e-b3fc-de058deb6672",
   "metadata": {},
   "outputs": [],
   "source": [
    "fig7 = plt.figure()\n",
    "ax7 = fig7.add_subplot(1, 1, 1)\n",
    "ax7.plot(time, pressure, color='tab:blue')\n",
    "plt.suptitle(\"Time vs Pressure\")\n",
    "plt.ylabel(\"Pressure (atm)\")\n",
    "plt.xlabel(f'Time (hr) \\n\\n Lowest pressure recorded was {minPressure} atm')\n",
    "plt.show()"
   ]
  }
 ],
 "metadata": {
  "kernelspec": {
   "display_name": "Python 3 (ipykernel)",
   "language": "python",
   "name": "python3"
  },
  "language_info": {
   "codemirror_mode": {
    "name": "ipython",
    "version": 3
   },
   "file_extension": ".py",
   "mimetype": "text/x-python",
   "name": "python",
   "nbconvert_exporter": "python",
   "pygments_lexer": "ipython3",
   "version": "3.9.13"
  }
 },
 "nbformat": 4,
 "nbformat_minor": 5
}
